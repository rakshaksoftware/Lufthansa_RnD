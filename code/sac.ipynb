{
 "cells": [
  {
   "cell_type": "markdown",
   "metadata": {},
   "source": [
    "# Import Required Libraries\n",
    "Import the necessary libraries, including NumPy and Matplotlib."
   ]
  },
  {
   "cell_type": "code",
   "execution_count": 1,
   "metadata": {},
   "outputs": [],
   "source": [
    "# Import Required Libraries\n",
    "import numpy as np\n",
    "import matplotlib.pyplot as plt"
   ]
  },
  {
   "cell_type": "markdown",
   "metadata": {},
   "source": [
    "# Define Constants\n",
    "Define the constants used in the Schmidt-Appleman Criterion, such as EIH2O, cp, ε, Q, and η."
   ]
  },
  {
   "cell_type": "code",
   "execution_count": 2,
   "metadata": {},
   "outputs": [],
   "source": [
    "# Define Constants\n",
    "EIH2O = 1.2232  # Emission index (kg H2O / kg fuel)\n",
    "cp = 1004  # Specific heat capacity of air (J / kg K)\n",
    "ε = 0.622  # Ratio of molar mass of water vapor to air\n",
    "Q = 43e6  # Specific combustion heat (J / kg)\n",
    "η = 0.4  # Overall propulsion efficiency"
   ]
  },
  {
   "cell_type": "markdown",
   "metadata": {},
   "source": [
    "# Calculate Isobaric Mixing Line (G)\n",
    "Calculate the isobaric mixing line (G) using the given formula."
   ]
  },
  {
   "cell_type": "code",
   "execution_count": 3,
   "metadata": {},
   "outputs": [
    {
     "name": "stdout",
     "output_type": "stream",
     "text": [
      "Isobaric Mixing Line (G): 1.8060638400757747\n"
     ]
    }
   ],
   "source": [
    "# Calculate Isobaric Mixing Line (G)\n",
    "def calculate_isobaric_mixing_line(EIH2O, cp, ε, Q, η, p):\n",
    "    \"\"\"\n",
    "    Calculate the isobaric mixing line (G) using the given formula.\n",
    "    \n",
    "    Parameters:\n",
    "    EIH2O (float): Emission index (kg H2O / kg fuel)\n",
    "    cp (float): Specific heat capacity of air (J / kg K)\n",
    "    ε (float): Ratio of molar mass of water vapor to air\n",
    "    Q (float): Specific combustion heat (J / kg)\n",
    "    η (float): Overall propulsion efficiency\n",
    "    p (float): Ambient pressure (Pa)\n",
    "    \n",
    "    Returns:\n",
    "    float: Isobaric mixing line (G)\n",
    "    \"\"\"\n",
    "    G = (EIH2O * cp * p) / (ε * Q * (1 - η))\n",
    "    return G\n",
    "\n",
    "# Example usage\n",
    "p = 23600  # Ambient pressure at flight level (Pa)\n",
    "G = calculate_isobaric_mixing_line(EIH2O, cp, ε, Q, η, p)\n",
    "print(f\"Isobaric Mixing Line (G): {G}\")"
   ]
  },
  {
   "cell_type": "markdown",
   "metadata": {},
   "source": [
    "# Calculate Saturation Vapor Pressure over Water\n",
    "Calculate the saturation vapor pressure over water using the Goff-Gratch equation."
   ]
  },
  {
   "cell_type": "code",
   "execution_count": 4,
   "metadata": {},
   "outputs": [
    {
     "name": "stdout",
     "output_type": "stream",
     "text": [
      "Saturation Vapor Pressure over Water: 0.006355920707490656 Pa\n"
     ]
    }
   ],
   "source": [
    "# Calculate Saturation Vapor Pressure over Water\n",
    "def saturation_vapor_pressure_water(T):\n",
    "    \"\"\"\n",
    "    Calculate the saturation vapor pressure over water using the Goff-Gratch equation.\n",
    "    \n",
    "    Parameters:\n",
    "    T (float): Temperature (K)\n",
    "    \n",
    "    Returns:\n",
    "    float: Saturation vapor pressure over water (Pa)\n",
    "    \"\"\"\n",
    "    Tst = 372.15  # Steam point temperature (K)\n",
    "    log_e_star_water = (-7.90298 * (Tst / T - 1) + \n",
    "                        5.02808 * np.log10(Tst / T) - \n",
    "                        1.3816e-7 * (10**(11.344 * (1 - T / Tst)) - 1) + \n",
    "                        8.1328e-3 * (10**(-3.49149 * (Tst / T - 1)) - 1))\n",
    "    e_star_water = 10**log_e_star_water\n",
    "    return e_star_water\n",
    "\n",
    "# Example usage\n",
    "T = 273.15  # Example temperature (K)\n",
    "e_star_water = saturation_vapor_pressure_water(T)\n",
    "print(f\"Saturation Vapor Pressure over Water: {e_star_water} Pa\")"
   ]
  },
  {
   "cell_type": "markdown",
   "metadata": {},
   "source": [
    "# Calculate Saturation Vapor Pressure over Ice\n",
    "Calculate the saturation vapor pressure over ice using the given formula."
   ]
  },
  {
   "cell_type": "code",
   "execution_count": 5,
   "metadata": {},
   "outputs": [
    {
     "name": "stdout",
     "output_type": "stream",
     "text": [
      "Saturation Vapor Pressure over Ice: 0.29039291578786747 Pa\n"
     ]
    }
   ],
   "source": [
    "def saturation_vapor_pressure_ice(T):\n",
    "    \"\"\"\n",
    "    Calculate the saturation vapor pressure over ice using the given formula.\n",
    "    \n",
    "    Parameters:\n",
    "    T (float): Temperature (K)\n",
    "    \n",
    "    Returns:\n",
    "    float: Saturation vapor pressure over ice (Pa)\n",
    "    \"\"\"\n",
    "    T0 = 273.16  # Ice-point temperature (K)\n",
    "    log_e_star_ice = (-9.09718 * (T0 / T - 1) + \n",
    "                      3.56654 * np.log10(T0 / T) + \n",
    "                      0.876793 * (1 - T / T0))\n",
    "    e_star_ice = 10**log_e_star_ice\n",
    "    return e_star_ice\n",
    "\n",
    "# Example usage\n",
    "T = 253.15  # Example temperature (K)\n",
    "e_star_ice = saturation_vapor_pressure_ice(T)\n",
    "print(f\"Saturation Vapor Pressure over Ice: {e_star_ice} Pa\")"
   ]
  },
  {
   "cell_type": "markdown",
   "metadata": {},
   "source": [
    "# Determine Temperature TLM\n",
    "Determine the temperature TLM using the given formula."
   ]
  },
  {
   "cell_type": "code",
   "execution_count": 5,
   "metadata": {},
   "outputs": [
    {
     "name": "stdout",
     "output_type": "stream",
     "text": [
      "Temperature TLM: 232.19056626186895 K\n"
     ]
    }
   ],
   "source": [
    "# Determine Temperature TLM\n",
    "def calculate_TLM(G):\n",
    "    \"\"\"\n",
    "    Calculate the temperature TLM using the given formula.\n",
    "    \n",
    "    Parameters:\n",
    "    G (float): Isobaric mixing line\n",
    "    \n",
    "    Returns:\n",
    "    float: Temperature TLM (K)\n",
    "    \"\"\"\n",
    "    TLM = -46.46 + 9.43 * np.log(G - 0.053) + 0.720 * (np.log(G - 0.053))**2\n",
    "    return TLM + 273.13\n",
    "\n",
    "# Example usage\n",
    "TLM = calculate_TLM(G)\n",
    "print(f\"Temperature TLM: {TLM} K\")"
   ]
  },
  {
   "cell_type": "markdown",
   "metadata": {},
   "source": [
    "# Determine Threshold Temperature TLC\n",
    "Determine the threshold temperature TLC by finding the intersection of the mixing line and the saturation vapor pressure curve over ice."
   ]
  },
  {
   "cell_type": "code",
   "execution_count": 17,
   "metadata": {},
   "outputs": [
    {
     "name": "stdout",
     "output_type": "stream",
     "text": [
      "Intersection point found at TLC: 219.58275265329644 K\n"
     ]
    },
    {
     "data": {
      "text/plain": [
       "219.58275265329644"
      ]
     },
     "execution_count": 17,
     "metadata": {},
     "output_type": "execute_result"
    }
   ],
   "source": [
    "import numpy as np\n",
    "import matplotlib.pyplot as plt\n",
    "\n",
    "def determine_threshold_temperature_TLC(G): \n",
    "    # Define the mixing line function based on G and TLM\n",
    "    def mixing_line(T, G, TLM):\n",
    "        e_star_water_TLM = saturation_vapor_pressure_water(TLM)\n",
    "        return e_star_water_TLM + (T - TLM) * (G)\n",
    "\n",
    "    TLM = calculate_TLM(G)\n",
    "\n",
    "    # Define a range of temperatures around TLM for plotting\n",
    "    temperature_range = np.linspace(TLM - 150, TLM + 50, 500)  # Kelvin\n",
    "\n",
    "    # Define the function for finding the intersection point\n",
    "    def func(T):\n",
    "        return saturation_vapor_pressure_ice(T) - mixing_line(T, G, TLM)\n",
    "\n",
    "    # Set up a bracket for the root finding based on the expected range around TLM\n",
    "    bracket_start = max(TLM - 50, 0.1)\n",
    "    bracket_end = max(TLM + 50, 0.1)\n",
    "\n",
    "    # Use root_scalar to find the intersection point\n",
    "    result = root_scalar(func, bracket=[bracket_start, bracket_end], method='brentq')\n",
    "\n",
    "    if result.converged:\n",
    "        TLC = result.root\n",
    "        print(f\"Intersection point found at TLC: {TLC} K\")\n",
    "\n",
    "        # Plot the functions and the intersection point\n",
    "        temperature_range = np.linspace(TLM - 50, TLM + 50, 500)\n",
    "        mixing_line_values = [mixing_line(T, G, TLM) for T in temperature_range]\n",
    "        saturation_vapor_ice_values = [saturation_vapor_pressure_ice(T) for T in temperature_range]\n",
    "\n",
    "        # plt.figure(figsize=(10, 6))\n",
    "        # plt.plot(temperature_range, mixing_line_values, label=\"Mixing Line\", color=\"blue\")\n",
    "        # plt.plot(temperature_range, saturation_vapor_ice_values, label=\"Saturation Vapor Pressure (Ice)\", color=\"orange\")\n",
    "        # plt.plot(TLC, saturation_vapor_pressure_ice(TLC), 'ro', label=f\"Intersection (TLC = {TLC:.2f} K)\")\n",
    "        # plt.xlabel(\"Temperature (K)\")\n",
    "        # plt.ylabel(\"Pressure (hPa)\")\n",
    "        # plt.title(\"Mixing Line vs. Saturation Vapor Pressure over Ice\")\n",
    "        # plt.legend()\n",
    "        # plt.grid(True)\n",
    "        # plt.show()\n",
    "    else:\n",
    "        print(\"No intersection found; root finding did not converge.\")\n",
    "\n",
    "    return TLC\n",
    "\n",
    "determine_threshold_temperature_TLC(G)"
   ]
  },
  {
   "cell_type": "markdown",
   "metadata": {},
   "source": [
    "# Plot Schmidt-Appleman Diagram\n",
    "Plot the Schmidt-Appleman Diagram showing the threshold temperatures for a range of altitudes and relative humidities."
   ]
  },
  {
   "cell_type": "code",
   "execution_count": 19,
   "metadata": {},
   "outputs": [
    {
     "name": "stdout",
     "output_type": "stream",
     "text": [
      "Intersection point found at TLC: 241.3860016926111 K\n",
      "Intersection point found at TLC: 241.22933700614814 K\n",
      "Intersection point found at TLC: 241.07251158153588 K\n",
      "Intersection point found at TLC: 240.91552497157645 K\n",
      "Intersection point found at TLC: 240.75837672404174 K\n",
      "Intersection point found at TLC: 240.60106638154758 K\n",
      "Intersection point found at TLC: 240.443593481424 K\n",
      "Intersection point found at TLC: 240.2859575555818 K\n",
      "Intersection point found at TLC: 240.1281581303751 K\n",
      "Intersection point found at TLC: 239.97019472646008 K\n",
      "Intersection point found at TLC: 239.81206685864922 K\n",
      "Intersection point found at TLC: 239.65377403576144 K\n",
      "Intersection point found at TLC: 239.4953157604679 K\n",
      "Intersection point found at TLC: 239.3366915291328 K\n",
      "Intersection point found at TLC: 239.17790083165 K\n",
      "Intersection point found at TLC: 239.0189431512741 K\n",
      "Intersection point found at TLC: 238.8598179644472 K\n",
      "Intersection point found at TLC: 238.70052474061976 K\n",
      "Intersection point found at TLC: 238.54106294206665 K\n",
      "Intersection point found at TLC: 238.38143202369727 K\n",
      "Intersection point found at TLC: 238.22163143286002 K\n",
      "Intersection point found at TLC: 238.06166060914097 K\n",
      "Intersection point found at TLC: 237.90151898415627 K\n",
      "Intersection point found at TLC: 237.74120598133834 K\n",
      "Intersection point found at TLC: 237.5807210157154 K\n",
      "Intersection point found at TLC: 237.42006349368447 K\n",
      "Intersection point found at TLC: 237.25923281277707 K\n",
      "Intersection point found at TLC: 237.09822836141802 K\n",
      "Intersection point found at TLC: 236.93704951867676 K\n",
      "Intersection point found at TLC: 236.77569565401066 K\n",
      "Intersection point found at TLC: 236.61416612700077 K\n",
      "Intersection point found at TLC: 236.4524602870792 K\n",
      "Intersection point found at TLC: 236.29057747324782 K\n",
      "Intersection point found at TLC: 236.1285170137884 K\n",
      "Intersection point found at TLC: 235.96627822596363 K\n",
      "Intersection point found at TLC: 235.80386041570847 K\n",
      "Intersection point found at TLC: 235.64126287731207 K\n",
      "Intersection point found at TLC: 235.4784848930896 K\n",
      "Intersection point found at TLC: 235.31552573304327 K\n",
      "Intersection point found at TLC: 235.1523846545132 K\n",
      "Intersection point found at TLC: 234.98906090181654 K\n",
      "Intersection point found at TLC: 234.82555370587536 K\n",
      "Intersection point found at TLC: 234.66186228383248 K\n",
      "Intersection point found at TLC: 234.4979858386549 K\n",
      "Intersection point found at TLC: 234.33392355872448 K\n",
      "Intersection point found at TLC: 234.16967461741535 K\n",
      "Intersection point found at TLC: 234.00523817265724 K\n",
      "Intersection point found at TLC: 233.84061336648517 K\n",
      "Intersection point found at TLC: 233.67579932457372 K\n",
      "Intersection point found at TLC: 233.51079515575645 K\n",
      "Intersection point found at TLC: 233.34559995152932 K\n",
      "Intersection point found at TLC: 233.1802127855375 K\n",
      "Intersection point found at TLC: 233.01463271304542 K\n",
      "Intersection point found at TLC: 232.848858770389 K\n",
      "Intersection point found at TLC: 232.68288997440953 K\n",
      "Intersection point found at TLC: 232.5167253218686 K\n",
      "Intersection point found at TLC: 232.3503637888432 K\n",
      "Intersection point found at TLC: 232.18380433010066 K\n",
      "Intersection point found at TLC: 232.0170458784519 K\n",
      "Intersection point found at TLC: 231.85008734408305 K\n",
      "Intersection point found at TLC: 231.68292761386402 K\n",
      "Intersection point found at TLC: 231.51556555063328 K\n",
      "Intersection point found at TLC: 231.34799999245809 K\n",
      "Intersection point found at TLC: 231.18022975186906 K\n",
      "Intersection point found at TLC: 231.0122536150681 K\n",
      "Intersection point found at TLC: 230.8440703411088 K\n",
      "Intersection point found at TLC: 230.6756786610479 K\n",
      "Intersection point found at TLC: 230.5070772770672 K\n",
      "Intersection point found at TLC: 230.33826486156408 K\n",
      "Intersection point found at TLC: 230.16924005621019 K\n",
      "Intersection point found at TLC: 230.00000147097595 K\n",
      "Intersection point found at TLC: 229.8305476831208 K\n",
      "Intersection point found at TLC: 229.6608772361469 K\n",
      "Intersection point found at TLC: 229.4909886387146 K\n",
      "Intersection point found at TLC: 229.3208803635194 K\n",
      "Intersection point found at TLC: 229.15055084612712 K\n",
      "Intersection point found at TLC: 228.97999848376705 K\n",
      "Intersection point found at TLC: 228.8092216340803 K\n",
      "Intersection point found at TLC: 228.63821861382218 K\n",
      "Intersection point found at TLC: 228.46698769751586 K\n",
      "Intersection point found at TLC: 228.29552711605663 K\n",
      "Intersection point found at TLC: 228.1238350552628 K\n",
      "Intersection point found at TLC: 227.95190965437263 K\n",
      "Intersection point found at TLC: 227.7797490044842 K\n",
      "Intersection point found at TLC: 227.60735114693546 K\n",
      "Intersection point found at TLC: 227.43471407162278 K\n",
      "Intersection point found at TLC: 227.26183571525442 K\n",
      "Intersection point found at TLC: 227.08871395953636 K\n",
      "Intersection point found at TLC: 226.9153466292878 K\n",
      "Intersection point found at TLC: 226.74173149048278 K\n",
      "Intersection point found at TLC: 226.56786624821459 K\n",
      "Intersection point found at TLC: 226.39374854457998 K\n",
      "Intersection point found at TLC: 226.21937595647867 K\n",
      "Intersection point found at TLC: 226.0447459933253 K\n",
      "Intersection point found at TLC: 225.869856094669 K\n",
      "Intersection point found at TLC: 225.6947036277163 K\n",
      "Intersection point found at TLC: 225.5192858847537 K\n",
      "Intersection point found at TLC: 225.34360008046386 K\n",
      "Intersection point found at TLC: 225.16764334913177 K\n",
      "Intersection point found at TLC: 224.9914127417344 K\n"
     ]
    },
    {
     "data": {
      "image/png": "[encoded data removed]",
      "text/plain": [
       "<Figure size 1000x600 with 1 Axes>"
      ]
     },
     "metadata": {},
     "output_type": "display_data"
    }
   ],
   "source": [
    "# Plot Schmidt-Appleman Diagram\n",
    "def plot_schmidt_appleman_diagram():\n",
    "    \"\"\"\n",
    "    Plot the Schmidt-Appleman Diagram showing the threshold temperatures for a range of altitudes and relative humidities.\n",
    "    \"\"\"\n",
    "    altitudes = np.linspace(5000, 15000, 100)  # Altitudes in meters\n",
    "    relative_humidities = [100]  # Relative humidities in percentage\n",
    "\n",
    "    plt.figure(figsize=(10, 6))\n",
    "\n",
    "    for rh in relative_humidities:\n",
    "        TLC_values = []\n",
    "        for altitude in altitudes:\n",
    "            p = 101325 * (1 - 2.25577e-5 * altitude)**5.25588  # Calculate pressure at altitude\n",
    "            G = calculate_isobaric_mixing_line(EIH2O, cp, ε, Q, η, p)\n",
    "            TLC = determine_threshold_temperature_TLC(G)\n",
    "            TLC_values.append(TLC)\n",
    "        \n",
    "        plt.plot(altitudes, TLC_values, label=f'{rh}% RH')\n",
    "\n",
    "    plt.xlabel('Altitude (m)')\n",
    "    plt.ylabel('Threshold Temperature (K)')\n",
    "    plt.title('Schmidt-Appleman Diagram')\n",
    "    plt.legend()\n",
    "    plt.grid(True)\n",
    "    plt.show()\n",
    "\n",
    "# Example usage\n",
    "plot_schmidt_appleman_diagram()"
   ]
  },
  {
   "cell_type": "code",
   "execution_count": null,
   "metadata": {},
   "outputs": [],
   "source": []
  }
 ],
 "metadata": {
  "kernelspec": {
   "display_name": "Python 3",
   "language": "python",
   "name": "python3"
  },
  "language_info": {
   "codemirror_mode": {
    "name": "ipython",
    "version": 3
   },
   "file_extension": ".py",
   "mimetype": "text/x-python",
   "name": "python",
   "nbconvert_exporter": "python",
   "pygments_lexer": "ipython3",
   "version": "3.12.4"
  }
 },
 "nbformat": 4,
 "nbformat_minor": 2
}
