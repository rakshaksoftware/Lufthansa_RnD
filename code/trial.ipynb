{
 "cells": [
  {
   "cell_type": "code",
   "execution_count": 5,
   "metadata": {},
   "outputs": [
    {
     "name": "stdout",
     "output_type": "stream",
     "text": [
      "Increase in mixing ratio for P = 1000 and T = -40 and delta_T = 5 is:0.018878459654521253\n",
      "Increase in mixing ratio for P = 1000 and T = -40 and delta_T = 40 is:0.10081393013227927\n",
      "Increase in mixing ratio for P = 1000 and T = -50 and delta_T = 5 is:0.0077068383837611484\n",
      "Increase in mixing ratio for P = 1000 and T = -50 and delta_T = 40 is:0.04915760687343136\n",
      "Increase in mixing ratio for P = 1000 and T = -60 and delta_T = 5 is:0.002881605895204219\n",
      "Increase in mixing ratio for P = 1000 and T = -60 and delta_T = 40 is:0.022600353478432946\n",
      "Increase in mixing ratio for P = 1000 and T = -70 and delta_T = 5 is:0.0009727722209918312\n",
      "Increase in mixing ratio for P = 1000 and T = -70 and delta_T = 40 is:0.009722871549324025\n",
      "Increase in mixing ratio for P = 1000 and T = -80 and delta_T = 5 is:0.0002905726905759672\n",
      "Increase in mixing ratio for P = 1000 and T = -80 and delta_T = 40 is:0.003880575154084468\n"
     ]
    }
   ],
   "source": [
    "import numpy as np\n",
    "T_st = 373.15\n",
    "T_C = 40\n",
    "eps = 0.622\n",
    "P = 1000\n",
    "delta_T = 40\n",
    "def e_star(T): # hPa\n",
    "    return 10**(-7.9028*((T_st/T)-1)+5.02808*np.log10(T_st/T)-1.3816e-7*(10**(11.344*(1-T/T_st))-1)+8.1328e-3*(10**(-3.49149*(T/T_st-1))-1)) * 1013.246\n",
    "def w(T):\n",
    "    return eps*e_star(T)/(P-e_star(T))\n",
    "for T_C in (40,50,60,70,80):\n",
    "    T = 272.15 - T_C\n",
    "    # print(w(T))\n",
    "    # print(w(T+delta_T))\n",
    "    for delta_T in (5,40):\n",
    "        print(f\"Increase in mixing ratio for P = {P} and T = -{T_C} and delta_T = {delta_T} is:\",end=\"\")\n",
    "        print(1000*(w(T+delta_T) - w(T))/delta_T) # 1000 for g/kg to g/g"
   ]
  },
  {
   "cell_type": "code",
   "execution_count": 6,
   "metadata": {},
   "outputs": [
    {
     "name": "stdout",
     "output_type": "stream",
     "text": [
      "Declared variables: delta_T, RH\n",
      "Defined constants: T=213.15, T_st=373.15, T_fz=273.15, eps=0.622, P=200\n",
      "e_i_star defined: 0.010801286078343748\n",
      "e_w_star defined: 0.03416355526232108\n",
      "0.03416355526232108\n",
      "w_si defined: 3.359381398562566e-05\n",
      "w_sw_T defined: 0.00010626680912584917\n",
      "w_sw_T_delta defined: 0.00018612905859382735\n",
      "Equation defined: False\n",
      "Left-hand side (lhs) of the equation expanded:\n",
      "7.986224946797818e-05\n",
      "Right-hand side (rhs) of the equation expanded:\n",
      "0.1680301662714899\n",
      "Combined equation:\n",
      "-0.1679503040220219\n",
      "Simplified equation:\n",
      "-0.167950304022022\n",
      "Solving the equation for delta_T...\n",
      "Solution: []\n"
     ]
    }
   ],
   "source": [
    "import sympy as sp\n",
    "import numpy as np\n",
    "\n",
    "# Declare the variable for delta_T\n",
    "# delta_T = sp.symbols('delta_T')\n",
    "delta_T = 5\n",
    "RH = 0.6\n",
    "print(\"Declared variables: delta_T, RH\")\n",
    "\n",
    "# Define constants\n",
    "T = 213.15  # Setting T as a constant\n",
    "T_st = 373.15\n",
    "T_fz = 273.15\n",
    "eps = 0.622\n",
    "P = 200\n",
    "print(f\"Defined constants: T={T}, T_st={T_st}, T_fz={T_fz}, eps={eps}, P={P}\")\n",
    "\n",
    "# Define e_i_star and e_w_star with T as a constant\n",
    "e_i_star = (10**(-9.09718*((T_fz/T)-1) - 3.56654*np.log10(T_fz/T) + 0.876793*(1 - T/T_fz))) * 6.1071\n",
    "print(f\"e_i_star defined: {e_i_star}\")\n",
    "\n",
    "e_w_star = (10**(-7.9028*((T_st/T)-1) + 5.02808*np.log10(T_st/T) - 1.3816e-7*(10**(11.344*(1 - T/T_st)) - 1) + 8.1328e-3*(10**(-3.49149*(T/T_st - 1)) - 1))) * 1013.246\n",
    "print(f\"e_w_star defined: {e_w_star}\")\n",
    "print(e_w_star)\n",
    "\n",
    "# Define w_si and w_sw with T as a constant\n",
    "w_si = eps * e_i_star / (P - e_i_star)\n",
    "print(f\"w_si defined: {w_si}\")\n",
    "\n",
    "w_sw_T = eps * e_w_star / (P - e_w_star)\n",
    "print(f\"w_sw_T defined: {w_sw_T}\")\n",
    "\n",
    "w_sw_T_delta = w(T+delta_T)\n",
    "print(f\"w_sw_T_delta defined: {w_sw_T_delta}\")\n",
    "\n",
    "# Define the equation w_sw(T+delta_T) - w_sw(T) = (336*delta_T)/10000 - w_si + RH * w_sw(T)\n",
    "equation = sp.Eq(w_sw_T_delta - w_sw_T, (336 * delta_T) / 10000 - w_si + RH * w_sw_T)\n",
    "print(f\"Equation defined: {equation}\")\n",
    "\n",
    "# Expand and simplify the equation step-by-step\n",
    "lhs = w_sw_T_delta - w_sw_T\n",
    "rhs = (336 * delta_T) / 10000 - w_si + RH * w_sw_T\n",
    "print(\"Left-hand side (lhs) of the equation expanded:\")\n",
    "print(lhs)\n",
    "\n",
    "print(\"Right-hand side (rhs) of the equation expanded:\")\n",
    "print(rhs)\n",
    "\n",
    "# Combine the terms to form a single equation\n",
    "combined_equation = lhs - rhs\n",
    "print(\"Combined equation:\")\n",
    "print(combined_equation)\n",
    "\n",
    "# Simplify the equation\n",
    "simplified_equation = sp.simplify(combined_equation)\n",
    "print(\"Simplified equation:\")\n",
    "print(simplified_equation)\n",
    "\n",
    "# Solve the equation for delta_T\n",
    "print(\"Solving the equation for delta_T...\")\n",
    "solution = sp.solve(simplified_equation, delta_T)\n",
    "print(f\"Solution: {solution}\")\n"
   ]
  },
  {
   "cell_type": "code",
   "execution_count": null,
   "metadata": {},
   "outputs": [],
   "source": []
  }
 ],
 "metadata": {
  "kernelspec": {
   "display_name": "Python 3",
   "language": "python",
   "name": "python3"
  },
  "language_info": {
   "codemirror_mode": {
    "name": "ipython",
    "version": 3
   },
   "file_extension": ".py",
   "mimetype": "text/x-python",
   "name": "python",
   "nbconvert_exporter": "python",
   "pygments_lexer": "ipython3",
   "version": "3.12.2"
  }
 },
 "nbformat": 4,
 "nbformat_minor": 2
}
